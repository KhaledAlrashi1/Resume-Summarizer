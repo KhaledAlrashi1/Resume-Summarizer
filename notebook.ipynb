{
 "cells": [
  {
   "cell_type": "code",
   "execution_count": 13,
   "metadata": {},
   "outputs": [],
   "source": [
    "import os\n",
    "import PyPDF2\n",
    "from docx import Document\n",
    "from transformers import BartForConditionalGeneration, BartTokenizer\n"
   ]
  },
  {
   "cell_type": "code",
   "execution_count": 14,
   "metadata": {},
   "outputs": [],
   "source": [
    "def extract_text_from_pdf(pdf_path):\n",
    "    with open(pdf_path, 'rb') as file:\n",
    "        reader = PyPDF2.PdfReader(file)\n",
    "        text = ''\n",
    "        for page in range(len(reader.pages)):\n",
    "            text += reader.pages[page].extract_text()\n",
    "    return text\n",
    "\n",
    "def extract_text_from_docx(docx_path):\n",
    "    doc = Document(docx_path)\n",
    "    text = '\\n'.join([para.text for para in doc.paragraphs])\n",
    "    return text\n",
    "\n",
    "def extract_text_from_txt(txt_path):\n",
    "    with open(txt_path, 'r') as file:\n",
    "        text = file.read()\n",
    "    return text"
   ]
  },
  {
   "cell_type": "code",
   "execution_count": 15,
   "metadata": {},
   "outputs": [],
   "source": [
    "# Load the BART model and tokenizer\n",
    "model_name = \"facebook/bart-large-cnn\"  # Pre-trained BART model for summarization\n",
    "tokenizer = BartTokenizer.from_pretrained(model_name)\n",
    "model = BartForConditionalGeneration.from_pretrained(model_name)\n",
    "\n",
    "def summarize_text(text):\n",
    "    inputs = tokenizer(text, max_length=2048, return_tensors=\"pt\", truncation=True)\n",
    "    summary_ids = model.generate(inputs['input_ids'], max_length=150, min_length=120, length_penalty=0, num_beams=4, early_stopping=True)\n",
    "    summary = tokenizer.decode(summary_ids[0], skip_special_tokens=True)\n",
    "    return summary\n",
    "\n"
   ]
  },
  {
   "cell_type": "code",
   "execution_count": 16,
   "metadata": {},
   "outputs": [
    {
     "name": "stdout",
     "output_type": "stream",
     "text": [
      "Khaled Alrashidi is a recent graduate from the University of Southern California. He earned his master's in Electrical and Computer Engineering with an emphasis on Machine Learning and Data Science. He also earned a Bachelor's degree in Computer Engineering from Portland State University. He has worked on several machine learning and data science projects and has a strong passion for utilizing AI to benefit both individuals and the broader community. He is currently working on a web application that helps make the practice of gratitude more engaging and meaningful by asking the user thought-provoking questions. He lives in Kuwait with his wife and two children.\n"
     ]
    }
   ],
   "source": [
    "# Example usage\n",
    "text = \"\"\" Khaled Alrashidi\n",
    "Address: Kuwait\n",
    "Phone: +965 9890 0002 - Email: alrashidi.kha@gmail.com - LinkedIn: https://www.linkedin.com/in/khaled-alrashidi1/ - Website: https://github.com/KhaledAlrashi1\n",
    "Professional Summary\n",
    "Khaled is recent graduate from the University of Southern California where he earned his master's in Electrical and Computer Engineering with an emphasis on Machine Learning and Data Science. He has worked on several machine learning and data science projects and has a strong passion for utilizing AI to benefit both individuals and the broader community. He also earned a Bachelor's degree in Computer Engineering from Portland State University. There, he developed a solid foundation in engineering principles and sharpened his technical skills.\n",
    "Education\n",
    "    Completed coursework towards Master of Science (M.S.) : Machine Learning and Data Science, May 2024 University of Southern California - Los Angeles, CA\n",
    "GPA: 3.39\n",
    "Awards & Honors\n",
    "• Leader of the Year Award - Issued by Curren D. • Distinguished Leadership Award - Issued by Curren Price, JR. - Apr 2023 D. Price, JR. - Apr 2024\n",
    "Completed coursework towards Bachelor of Science - Computer Engineering : June 2022 Portland State University - Portland, OR\n",
    "GPA: 3.62\n",
    "Awards & Honors\n",
    "• President's List - Issued by Stephen Percy Extracurricular Activities\n",
    "Skills\n",
    "• Machine Learning\n",
    "• Deep Learning\n",
    "• SQL\n",
    "• Supervised and Unsupervised Learning\n",
    "• Data Cleaning and Preprocessing\n",
    "• Data Visualization\n",
    "• Model Evaluation and Selection\n",
    "Certifications\n",
    "• Data Scientist in Python\n",
    "• MLOps Fundamentals\n",
    "Projects\n",
    "• IEEE-Eta Kappa Nu (ΗΚΝ)\n",
    "• Data Science\n",
    "• Python\n",
    "• C++\n",
    "• Generative AI\n",
    "• EDA and Data Analysis • Artificial Intelligence\n",
    "• API Development\n",
    "• Python Data Fundamentals\n",
    "• Tau Beta Pi (ΤΒΠ)\n",
    "• Golden Key International Honour Society (GK)\n",
    "Gratitude Companion: A web application that helps make the practice of gratitude more engaging and meaningful by asking the user thought-provoking questions. The app integrates GPT-4o API for better text processing and understanding.\n",
    "Credit Card Fraud Detector: The project uses machine learning to predict whether a transaction is legitimate or fraud, given features such as time, amount, and frequency.\n",
    "California House Price Predictor: The project uses machine learning to predict a house price in California, given its features such as size of the house and number of rooms in the house.\n",
    "Titanic Survival Predictor: The project uses machine learning to predict the survival of a passenger given certain characteristics such as age, passenger class, and gender.\n",
    "Edible Mushroom Classifier: The project uses machine learning to classify 173 species of mushrooms into two categories: edible and poisonous.\n",
    "Sentiment Analysis on IMDB Movie Reviews: The project uses deep learning to analyze and predict the sentiment of reviews on IMDB movies and classifies them into positive or negative.\n",
    "Burning Liquid Image Classifier: The project uses deep learning develop a model that classifies images of flames into three categories: ethanol, pentane, and propanol.\"\"\"\n",
    "\n",
    "\n",
    "summary = summarize_text(text)\n",
    "print(summary)"
   ]
  },
  {
   "cell_type": "code",
   "execution_count": 17,
   "metadata": {},
   "outputs": [],
   "source": [
    "def process_resume(file_path):\n",
    "    # Determine file format\n",
    "    file_extension = os.path.splitext(file_path)[1].lower()\n",
    "\n",
    "    # Extract text based on file type\n",
    "    if file_extension == \".pdf\":\n",
    "        resume_text = extract_text_from_pdf(file_path)\n",
    "    elif file_extension == \".docx\":\n",
    "        resume_text = extract_text_from_docx(file_path)\n",
    "    elif file_extension == \".txt\":\n",
    "        with open(file_path, 'r') as file:\n",
    "            resume_text = file.read()\n",
    "    else:\n",
    "        raise ValueError(\"Unsupported file format\")\n",
    "\n",
    "    # Summarize the extracted text\n",
    "    summary = summarize_text(resume_text)\n",
    "    return summary"
   ]
  },
  {
   "cell_type": "code",
   "execution_count": 18,
   "metadata": {},
   "outputs": [
    {
     "name": "stderr",
     "output_type": "stream",
     "text": [
      "incorrect startxref pointer(3)\n"
     ]
    },
    {
     "name": "stdout",
     "output_type": "stream",
     "text": [
      "Khaled is recent graduate from the University of Southern California where he earned his master's in Electrical and Computer Engineering with an emphasis on Machine Learning and Data Science. He has worked on severalmachine learning and data science projects and has a strong passion for utilizing AI to beneﬁt both individuals and the broader community. Phone : +965 9890 0002 - Email : alrashidi.kha@gmail.com - LinkedIn : https://www.linkedin.com/in/khaled-alrashdi1/ -Website: https://github.com/.\n"
     ]
    }
   ],
   "source": [
    "# Example usage\n",
    "resume_path = \"/Users/khaledalrashidi/Desktop/ML-Projects/Resume_Summarizer/Khaled_Alrashidi_Resume.pdf\"  # Replace with your resume file path\n",
    "summary = process_resume(resume_path)\n",
    "print(summary)"
   ]
  },
  {
   "cell_type": "code",
   "execution_count": 19,
   "metadata": {},
   "outputs": [
    {
     "name": "stdout",
     "output_type": "stream",
     "text": [
      "Number of tokens: 156\n"
     ]
    }
   ],
   "source": [
    "from transformers import BartTokenizer\n",
    "\n",
    "# Initialize the BART tokenizer\n",
    "tokenizer = BartTokenizer.from_pretrained('facebook/bart-large-cnn')\n",
    "\n",
    "# The paragraph to be tokenized\n",
    "paragraph = \"\"\"Khaled Alrashidi is a recent graduate from the University of Southern California. He earned his master's in Electrical and Computer Engineering with an emphasis on Machine Learning and Data Science. He also earned a Bachelor's degree in Computer Engineering from Portland State University. He has worked on several machine learning and data science projects and has a strong passion for utilizing AI to benefit both individuals and the broader community. He is currently working on a web application that helps make the practice of gratitude more engaging and meaningful by asking the user thought-provoking questions. The app integrates GPT-4o API for better text processing and understanding. He currently lives in Kuwait with his wife and two children. He works on a project that uses machine learning to predict a house price in California.\"\"\"\n",
    "\n",
    "# Tokenize the paragraph\n",
    "tokens = tokenizer(paragraph, return_tensors=\"pt\", truncation=True)\n",
    "\n",
    "# Count the number of tokens\n",
    "num_tokens = len(tokens['input_ids'][0])\n",
    "\n",
    "print(f\"Number of tokens: {num_tokens}\")"
   ]
  },
  {
   "cell_type": "code",
   "execution_count": null,
   "metadata": {},
   "outputs": [],
   "source": []
  }
 ],
 "metadata": {
  "kernelspec": {
   "display_name": "ai_env",
   "language": "python",
   "name": "python3"
  },
  "language_info": {
   "codemirror_mode": {
    "name": "ipython",
    "version": 3
   },
   "file_extension": ".py",
   "mimetype": "text/x-python",
   "name": "python",
   "nbconvert_exporter": "python",
   "pygments_lexer": "ipython3",
   "version": "3.12.4"
  }
 },
 "nbformat": 4,
 "nbformat_minor": 2
}
